{
 "cells": [
  {
   "cell_type": "code",
   "execution_count": 1,
   "metadata": {},
   "outputs": [
    {
     "name": "stdout",
     "output_type": "stream",
     "text": [
      "['DAQ- Crosshead, … - (Timed).txt']\n",
      "Renamed file: E:\\Documents\\SurfboardProj\\SurfURS\\CouponData\\FixTesting\\ID401BTestData\\DAQ- Crosshead, … - (Timed).txt -> E:\\Documents\\SurfboardProj\\SurfURS\\CouponData\\FixTesting\\ID401BTestData\\ID401BTestData.txt\n",
      "['DAQ- Crosshead, … - (Timed).txt']\n",
      "Renamed file: E:\\Documents\\SurfboardProj\\SurfURS\\CouponData\\FixTesting\\ID404BTestData\\DAQ- Crosshead, … - (Timed).txt -> E:\\Documents\\SurfboardProj\\SurfURS\\CouponData\\FixTesting\\ID404BTestData\\ID404BTestData.txt\n",
      "['DAQ- Crosshead, … - (Timed).txt']\n",
      "Renamed file: E:\\Documents\\SurfboardProj\\SurfURS\\CouponData\\FixTesting\\ID1001TestData\\DAQ- Crosshead, … - (Timed).txt -> E:\\Documents\\SurfboardProj\\SurfURS\\CouponData\\FixTesting\\ID1001TestData\\ID1001TestData.txt\n",
      "['DAQ- Crosshead, … - (Timed).txt']\n",
      "Renamed file: E:\\Documents\\SurfboardProj\\SurfURS\\CouponData\\FixTesting\\ID1002TestData\\DAQ- Crosshead, … - (Timed).txt -> E:\\Documents\\SurfboardProj\\SurfURS\\CouponData\\FixTesting\\ID1002TestData\\ID1002TestData.txt\n",
      "['DAQ- Crosshead, … - (Timed).txt']\n",
      "Renamed file: E:\\Documents\\SurfboardProj\\SurfURS\\CouponData\\FixTesting\\ID1101TestData\\DAQ- Crosshead, … - (Timed).txt -> E:\\Documents\\SurfboardProj\\SurfURS\\CouponData\\FixTesting\\ID1101TestData\\ID1101TestData.txt\n",
      "['DAQ- Crosshead, … - (Timed).txt']\n",
      "Renamed file: E:\\Documents\\SurfboardProj\\SurfURS\\CouponData\\FixTesting\\ID801TestData\\DAQ- Crosshead, … - (Timed).txt -> E:\\Documents\\SurfboardProj\\SurfURS\\CouponData\\FixTesting\\ID801TestData\\ID801TestData.txt\n",
      "['DAQ- Crosshead, … - (Timed).txt']\n",
      "Renamed file: E:\\Documents\\SurfboardProj\\SurfURS\\CouponData\\FixTesting\\ID802TestData\\DAQ- Crosshead, … - (Timed).txt -> E:\\Documents\\SurfboardProj\\SurfURS\\CouponData\\FixTesting\\ID802TestData\\ID802TestData.txt\n"
     ]
    }
   ],
   "source": [
    "import os\n",
    "import shutil\n",
    "\n",
    "parent_directory = \"E:\\Documents\\SurfboardProj\\SurfURS\\CouponData\\FixTesting\"  # Replace with the actual parent directory path\n",
    "destination = \"E:\\Documents\\SurfboardProj\\SurfURS\\CouponData\\TestingData\"\n",
    "# Get a list of subdirectories within the parent directory\n",
    "subdirectories = [subdir for subdir in os.listdir(parent_directory) if os.path.isdir(os.path.join(parent_directory, subdir))]\n",
    "\n",
    "# Iterate over each subdirectory\n",
    "for subdir in subdirectories:\n",
    "\n",
    "    subdir_path = os.path.join(parent_directory, subdir)\n",
    "    files = os.listdir(subdir_path)\n",
    "    print(files)\n",
    "    \n",
    "    # Iterate over each file in the subdirectory\n",
    "    for file in files:\n",
    "        if file.startswith(\"DAQ\") and file.endswith(\".txt\"):\n",
    "            old_file_path = os.path.join(subdir_path, file)\n",
    "            new_file_name = subdir + \".txt\"\n",
    "            new_file_path = os.path.join(subdir_path, new_file_name)\n",
    "\n",
    "            # Rename the file\n",
    "            os.rename(old_file_path, new_file_path)\n",
    "            shutil.copy(new_file_path,destination)\n",
    "            print(f\"Renamed file: {old_file_path} -> {new_file_path}\")\n"
   ]
  },
  {
   "cell_type": "code",
   "execution_count": null,
   "metadata": {},
   "outputs": [],
   "source": []
  }
 ],
 "metadata": {
  "kernelspec": {
   "display_name": "SurfURSConda",
   "language": "python",
   "name": "python3"
  },
  "language_info": {
   "codemirror_mode": {
    "name": "ipython",
    "version": 3
   },
   "file_extension": ".py",
   "mimetype": "text/x-python",
   "name": "python",
   "nbconvert_exporter": "python",
   "pygments_lexer": "ipython3",
   "version": "3.10.10"
  },
  "orig_nbformat": 4
 },
 "nbformat": 4,
 "nbformat_minor": 2
}
