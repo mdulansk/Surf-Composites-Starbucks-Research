{
 "cells": [
  {
   "cell_type": "code",
   "execution_count": 7,
   "metadata": {},
   "outputs": [
    {
     "name": "stdout",
     "output_type": "stream",
     "text": [
      "['ID120TestData.txt']\n",
      "Renamed file: D:\\Documents\\SurfboardProj\\SurfURS\\CouponData\\FixTesting\\ID120TestData\\ID120TestData.txt -> D:\\Documents\\SurfboardProj\\SurfURS\\CouponData\\FixTesting\\ID120TestData\\ID120TestData.txt\n",
      "['ID101TestData.txt']\n",
      "Renamed file: D:\\Documents\\SurfboardProj\\SurfURS\\CouponData\\FixTesting\\ID101TestData\\ID101TestData.txt -> D:\\Documents\\SurfboardProj\\SurfURS\\CouponData\\FixTesting\\ID101TestData\\ID101TestData.txt\n",
      "['ID102TestData.txt']\n",
      "Renamed file: D:\\Documents\\SurfboardProj\\SurfURS\\CouponData\\FixTesting\\ID102TestData\\ID102TestData.txt -> D:\\Documents\\SurfboardProj\\SurfURS\\CouponData\\FixTesting\\ID102TestData\\ID102TestData.txt\n",
      "['ID103TestData.txt']\n",
      "Renamed file: D:\\Documents\\SurfboardProj\\SurfURS\\CouponData\\FixTesting\\ID103TestData\\ID103TestData.txt -> D:\\Documents\\SurfboardProj\\SurfURS\\CouponData\\FixTesting\\ID103TestData\\ID103TestData.txt\n",
      "['ID104TestData.txt']\n",
      "Renamed file: D:\\Documents\\SurfboardProj\\SurfURS\\CouponData\\FixTesting\\ID104TestData\\ID104TestData.txt -> D:\\Documents\\SurfboardProj\\SurfURS\\CouponData\\FixTesting\\ID104TestData\\ID104TestData.txt\n",
      "['ID105TestData.txt']\n",
      "Renamed file: D:\\Documents\\SurfboardProj\\SurfURS\\CouponData\\FixTesting\\ID105TestData\\ID105TestData.txt -> D:\\Documents\\SurfboardProj\\SurfURS\\CouponData\\FixTesting\\ID105TestData\\ID105TestData.txt\n",
      "['ID106TestData.txt']\n",
      "Renamed file: D:\\Documents\\SurfboardProj\\SurfURS\\CouponData\\FixTesting\\ID106TestData\\ID106TestData.txt -> D:\\Documents\\SurfboardProj\\SurfURS\\CouponData\\FixTesting\\ID106TestData\\ID106TestData.txt\n",
      "['ID107TestData.txt']\n",
      "Renamed file: D:\\Documents\\SurfboardProj\\SurfURS\\CouponData\\FixTesting\\ID107TestData\\ID107TestData.txt -> D:\\Documents\\SurfboardProj\\SurfURS\\CouponData\\FixTesting\\ID107TestData\\ID107TestData.txt\n",
      "['ID108TestData.txt']\n",
      "Renamed file: D:\\Documents\\SurfboardProj\\SurfURS\\CouponData\\FixTesting\\ID108TestData\\ID108TestData.txt -> D:\\Documents\\SurfboardProj\\SurfURS\\CouponData\\FixTesting\\ID108TestData\\ID108TestData.txt\n",
      "['ID109TestData.txt']\n",
      "Renamed file: D:\\Documents\\SurfboardProj\\SurfURS\\CouponData\\FixTesting\\ID109TestData\\ID109TestData.txt -> D:\\Documents\\SurfboardProj\\SurfURS\\CouponData\\FixTesting\\ID109TestData\\ID109TestData.txt\n",
      "['ID110TestData.txt']\n",
      "Renamed file: D:\\Documents\\SurfboardProj\\SurfURS\\CouponData\\FixTesting\\ID110TestData\\ID110TestData.txt -> D:\\Documents\\SurfboardProj\\SurfURS\\CouponData\\FixTesting\\ID110TestData\\ID110TestData.txt\n",
      "['ID111TestData.txt']\n",
      "Renamed file: D:\\Documents\\SurfboardProj\\SurfURS\\CouponData\\FixTesting\\ID111TestData\\ID111TestData.txt -> D:\\Documents\\SurfboardProj\\SurfURS\\CouponData\\FixTesting\\ID111TestData\\ID111TestData.txt\n",
      "['ID112TestData.txt']\n",
      "Renamed file: D:\\Documents\\SurfboardProj\\SurfURS\\CouponData\\FixTesting\\ID112TestData\\ID112TestData.txt -> D:\\Documents\\SurfboardProj\\SurfURS\\CouponData\\FixTesting\\ID112TestData\\ID112TestData.txt\n",
      "['ID113TestData.txt']\n",
      "Renamed file: D:\\Documents\\SurfboardProj\\SurfURS\\CouponData\\FixTesting\\ID113TestData\\ID113TestData.txt -> D:\\Documents\\SurfboardProj\\SurfURS\\CouponData\\FixTesting\\ID113TestData\\ID113TestData.txt\n",
      "['ID114TestData.txt']\n",
      "Renamed file: D:\\Documents\\SurfboardProj\\SurfURS\\CouponData\\FixTesting\\ID114TestData\\ID114TestData.txt -> D:\\Documents\\SurfboardProj\\SurfURS\\CouponData\\FixTesting\\ID114TestData\\ID114TestData.txt\n",
      "['ID115TestData.txt']\n",
      "Renamed file: D:\\Documents\\SurfboardProj\\SurfURS\\CouponData\\FixTesting\\ID115TestData\\ID115TestData.txt -> D:\\Documents\\SurfboardProj\\SurfURS\\CouponData\\FixTesting\\ID115TestData\\ID115TestData.txt\n",
      "['ID116TestData.txt']\n",
      "Renamed file: D:\\Documents\\SurfboardProj\\SurfURS\\CouponData\\FixTesting\\ID116TestData\\ID116TestData.txt -> D:\\Documents\\SurfboardProj\\SurfURS\\CouponData\\FixTesting\\ID116TestData\\ID116TestData.txt\n",
      "['ID117TestData.txt']\n",
      "Renamed file: D:\\Documents\\SurfboardProj\\SurfURS\\CouponData\\FixTesting\\ID117TestData\\ID117TestData.txt -> D:\\Documents\\SurfboardProj\\SurfURS\\CouponData\\FixTesting\\ID117TestData\\ID117TestData.txt\n",
      "['ID118TestData.txt']\n",
      "Renamed file: D:\\Documents\\SurfboardProj\\SurfURS\\CouponData\\FixTesting\\ID118TestData\\ID118TestData.txt -> D:\\Documents\\SurfboardProj\\SurfURS\\CouponData\\FixTesting\\ID118TestData\\ID118TestData.txt\n",
      "['ID119TestData.txt']\n",
      "Renamed file: D:\\Documents\\SurfboardProj\\SurfURS\\CouponData\\FixTesting\\ID119TestData\\ID119TestData.txt -> D:\\Documents\\SurfboardProj\\SurfURS\\CouponData\\FixTesting\\ID119TestData\\ID119TestData.txt\n"
     ]
    }
   ],
   "source": [
    "import os\n",
    "import shutil\n",
    "\n",
    "parent_directory = \"D:\\Documents\\SurfboardProj\\SurfURS\\CouponData\\FixTesting\"  # Replace with the actual parent directory path\n",
    "destination = \"D:\\Documents\\SurfboardProj\\SurfURS\\CouponData\\TestingData\"\n",
    "# Get a list of subdirectories within the parent directory\n",
    "subdirectories = [subdir for subdir in os.listdir(parent_directory) if os.path.isdir(os.path.join(parent_directory, subdir))]\n",
    "\n",
    "# Iterate over each subdirectory\n",
    "for subdir in subdirectories:\n",
    "\n",
    "    subdir_path = os.path.join(parent_directory, subdir)\n",
    "    files = os.listdir(subdir_path)\n",
    "    print(files)\n",
    "\n",
    "    # Iterate over each file in the subdirectory\n",
    "    for file in files:\n",
    "        if file.startswith(\"ID\") and file.endswith(\".txt\"):\n",
    "            old_file_path = os.path.join(subdir_path, file)\n",
    "            new_file_name = subdir + \".txt\"\n",
    "            new_file_path = os.path.join(subdir_path, new_file_name)\n",
    "\n",
    "            # Rename the file\n",
    "            os.rename(old_file_path, new_file_path)\n",
    "            shutil.copy(new_file_path,destination)\n",
    "            print(f\"Renamed file: {old_file_path} -> {new_file_path}\")\n"
   ]
  },
  {
   "cell_type": "code",
   "execution_count": null,
   "metadata": {},
   "outputs": [],
   "source": []
  }
 ],
 "metadata": {
  "kernelspec": {
   "display_name": "SurfURSConda",
   "language": "python",
   "name": "python3"
  },
  "language_info": {
   "codemirror_mode": {
    "name": "ipython",
    "version": 3
   },
   "file_extension": ".py",
   "mimetype": "text/x-python",
   "name": "python",
   "nbconvert_exporter": "python",
   "pygments_lexer": "ipython3",
   "version": "3.10.10"
  },
  "orig_nbformat": 4
 },
 "nbformat": 4,
 "nbformat_minor": 2
}
