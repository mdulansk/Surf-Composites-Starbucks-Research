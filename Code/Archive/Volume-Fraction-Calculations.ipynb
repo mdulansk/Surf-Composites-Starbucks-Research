{
 "cells": [
  {
   "cell_type": "code",
   "execution_count": 6,
   "metadata": {},
   "outputs": [
    {
     "data": {
      "text/plain": [
       "3.0638489062499996"
      ]
     },
     "execution_count": 6,
     "metadata": {},
     "output_type": "execute_result"
    }
   ],
   "source": [
    "import numpy as np\n",
    "from sympy import *\n",
    "\n",
    "Ratio = [5,1]\n",
    "resinDensity = 1.14 #g/cm^3\n",
    "hardenerDensity = 1.01 #g/cm^3\n",
    "\n",
    "fullCombinedPump = 24 #cm^3\n",
    "\n",
    "pm = (1/sum(Ratio))*(Ratio[0]*resinDensity + Ratio[1]*hardenerDensity)  #Density of Matrix\n",
    "pf = 1.76 #Got from ChatGPT #Density of Fibre\n",
    "\n",
    "wf = (97.1 - 4*2)/4#weight of Matrix\n",
    "vf = 0.5#weight of Fibre\n",
    "\n",
    "wm = (((wf*pf)/vf) - (wf/pf))*pm\n",
    "wm/fullCombinedPump\n",
    "#in Cubic Centimeters\n",
    "\n"
   ]
  },
  {
   "cell_type": "code",
   "execution_count": null,
   "metadata": {},
   "outputs": [],
   "source": []
  }
 ],
 "metadata": {
  "kernelspec": {
   "display_name": "SurfURSConda",
   "language": "python",
   "name": "python3"
  },
  "language_info": {
   "codemirror_mode": {
    "name": "ipython",
    "version": 3
   },
   "file_extension": ".py",
   "mimetype": "text/x-python",
   "name": "python",
   "nbconvert_exporter": "python",
   "pygments_lexer": "ipython3",
   "version": "3.10.10"
  },
  "orig_nbformat": 4
 },
 "nbformat": 4,
 "nbformat_minor": 2
}
