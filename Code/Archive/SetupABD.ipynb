{
 "cells": [
  {
   "cell_type": "code",
   "execution_count": 241,
   "metadata": {},
   "outputs": [],
   "source": [
    "import numpy as np\n",
    "import math"
   ]
  },
  {
   "cell_type": "code",
   "execution_count": 242,
   "metadata": {},
   "outputs": [],
   "source": [
    "def StressStrainTransform(theta):\n",
    "    Tsigma = np.zeros((3, 3), dtype=float)\n",
    "    Tsigma[0,0] = math.cos(math.radians(theta))**2\n",
    "    Tsigma[0,1] = math.sin(math.radians(theta))**2\n",
    "    Tsigma[0,2] = 2*math.cos(math.radians(theta))*math.sin(math.radians(theta))\n",
    "    Tsigma[1,0] = Tsigma[0,1]\n",
    "    Tsigma[1,1] = Tsigma[0,0]\n",
    "    Tsigma[1,2] = -Tsigma[0,2]\n",
    "    Tsigma[2,0] = -math.cos(math.radians(theta))*math.sin(math.radians(theta))\n",
    "    Tsigma[2,1] = -Tsigma[2,0]\n",
    "    Tsigma[2,2] = math.cos(math.radians(theta))**2 - math.sin(math.radians(theta))**2\n",
    "    #print(Tsigma)\n",
    "\n",
    "    Tstrain = Tsigma.copy()\n",
    "    \n",
    "    Tstrain[0,2] = Tsigma[2,1]\n",
    "    Tstrain[1,2] = Tsigma[2,0]\n",
    "    Tstrain[2,0] = Tsigma[1,2]\n",
    "    Tstrain[2,1] = Tsigma[0,2]\n",
    "    #print(Tstrain)\n",
    "    return Tsigma, Tstrain"
   ]
  },
  {
   "cell_type": "code",
   "execution_count": 243,
   "metadata": {},
   "outputs": [],
   "source": [
    "def QandS(E1,E2,G12,v12,theta):\n",
    "    S11 = 1/E1\n",
    "    S12 = -v12/E1\n",
    "    S16 = 0\n",
    "    S21 = S12\n",
    "    S22 = 1/E2\n",
    "    S26 = 0\n",
    "    S61 = 0\n",
    "    S62 = 0\n",
    "    S66 = 1/G12\n",
    "    S = np.array([[S11,S12,S16],[S21,S22,S26],[S61,S62,S66]])\n",
    "    Q = np.linalg.inv(S)\n",
    "    [Tsigma, Tstrain] = StressStrainTransform(theta)\n",
    "    Q_bar = Tstrain.T@Q@Tstrain\n",
    "    S_bar = Tsigma.T@S@Tsigma\n",
    "    return Q, S, Q_bar, S_bar"
   ]
  },
  {
   "cell_type": "code",
   "execution_count": 252,
   "metadata": {},
   "outputs": [],
   "source": [
    "def ABD(E1,E2,G12,v12,theta, t):\n",
    "    t_total = t*len(theta)\n",
    "    z_bottom = -t_total/2\n",
    "    z_index = 0\n",
    "    z = np.zeros((len(theta),len(theta)),dtype=float)\n",
    "    for j in range(len(theta)):\n",
    "        z[j,0] = z_bottom + z_index*(j)\n",
    "        z_index = t\n",
    "\n",
    "    z_index = 0\n",
    "    for j in range(len(theta)):\n",
    "        z[j,1] = z_bottom + t + z_index*(j)\n",
    "        z_index = t\n",
    "\n",
    "    Q = np.zeros((3,3,len(theta)))\n",
    "    S = np.zeros((3,3,len(theta)))\n",
    "    Q_bar = np.zeros((3,3,len(theta)))\n",
    "    S_bar = np.zeros((3,3,len(theta)))\n",
    "    for i in range(len(theta)):\n",
    "        Q_i,S_i,Q_bar_i,S_bar_i = QandS(E1[i],E2[i],G12[i],v12[i],theta[i])\n",
    "        Q[:, :, i] = Q_i\n",
    "        S[:, :, i] = S_i\n",
    "        Q_bar[:, :, i] = Q_bar_i\n",
    "        S_bar[:, :, i] = S_bar_i\n",
    "\n",
    "    A = np.zeros((3, 3))\n",
    "    B = np.zeros((3, 3))\n",
    "    D = np.zeros((3, 3))\n",
    "\n",
    "    for k in range(len(theta)):\n",
    "        A = A + np.dot(Q_bar[:,:,k],(z[k,1]-z[k,0]))\n",
    "        B = B + np.dot(Q_bar[:,:,k],(z[k,1]**2-z[k,0]**2))\n",
    "        D = D + np.dot(Q_bar[:,:,k],(z[k,1]**3-z[k,0]**3))\n",
    "    \n",
    "    \n",
    "    B = (1/2)*B\n",
    "    D = (1/3)*D\n",
    "    print(D)\n",
    "\n",
    "    # delta = inv(D-(B*inv(A)*B));\n",
    "    # beta = -(inv(A)*B*delta);\n",
    "    # alpha = inv(A) + (inv(A)*B*delta*B*inv(A));"
   ]
  },
  {
   "cell_type": "code",
   "execution_count": 253,
   "metadata": {},
   "outputs": [
    {
     "name": "stdout",
     "output_type": "stream",
     "text": [
      "[[ 2.61962007e-01  8.28233849e-02  9.69120835e-18]\n",
      " [ 8.28233849e-02  2.61962007e-01 -1.46582621e-17]\n",
      " [-5.20995284e-18 -1.46582621e-17  8.37940705e-02]]\n"
     ]
    }
   ],
   "source": [
    "#6oz lamina (not accurate Values)\n",
    "E1_6 = 29.7E9\n",
    "E2_6 = 29.7E9\n",
    "G12_6 = 5.3E9\n",
    "v12_6 = 0.17\n",
    "\n",
    "#4oz lamina (also not accurate)\n",
    "E1_4 = E1_6*.85\n",
    "E2_4 = E2_6*.85\n",
    "G12_4 = G12_6*.85\n",
    "v12_4 = v12_6\n",
    "\n",
    "t = .25E-3;#meters\n",
    "\n",
    "#Practice ABD - Top Lam\n",
    "ABD([E1_6, E1_4],[E2_6, E2_4], [G12_6, G12_4], [v12_6, v12_4], [0, 45], t)"
   ]
  },
  {
   "cell_type": "code",
   "execution_count": null,
   "metadata": {},
   "outputs": [],
   "source": []
  }
 ],
 "metadata": {
  "kernelspec": {
   "display_name": "Python 3",
   "language": "python",
   "name": "python3"
  },
  "language_info": {
   "codemirror_mode": {
    "name": "ipython",
    "version": 3
   },
   "file_extension": ".py",
   "mimetype": "text/x-python",
   "name": "python",
   "nbconvert_exporter": "python",
   "pygments_lexer": "ipython3",
   "version": "3.9.2"
  },
  "orig_nbformat": 4
 },
 "nbformat": 4,
 "nbformat_minor": 2
}
