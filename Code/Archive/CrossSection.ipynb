{
 "cells": [
  {
   "cell_type": "code",
   "execution_count": 11,
   "metadata": {},
   "outputs": [],
   "source": [
    "from abdCalcs import ABD\n",
    "import numpy as np\n",
    "import sympy as sp"
   ]
  },
  {
   "cell_type": "code",
   "execution_count": 12,
   "metadata": {},
   "outputs": [],
   "source": [
    "#Material Properties\n",
    "#6oz lamina (not accurate Values)\n",
    "E1_6 = 29.7E9\n",
    "E2_6 = 29.7E9\n",
    "G12_6 = 5.3E9\n",
    "v12_6 = 0.17\n",
    "t = .25E-3;#meters\n",
    "\n",
    "#4oz lamina (also not accurate)\n",
    "E1_4 = E1_6*.85\n",
    "E2_4 = E2_6*.85\n",
    "G12_4 = G12_6*.85\n",
    "v12_4 = v12_6\n",
    "\n",
    "\n",
    "#Foam (from matWeb)\n",
    "E1_foam = 3.80E7\n",
    "E2_foam = E1_foam\n",
    "G12_foam = 1.9E7\n",
    "v13_foam = 0.32\n",
    "\n",
    "#Stringer (Balsa from matWeb);\n",
    "E1_string = 2.20E9\n",
    "E2_string = E1_string\n",
    "G12_string = .106E9\n",
    "v12_foam = .25 #from GPT\n",
    "\n",
    "#Carbon\n",
    "\n",
    "#Top Lam ABD - Effective Moduli\n",
    "A_top,B_top,D_top = ABD([E1_6, E1_4],[E2_6, E2_4], [G12_6, G12_4], [v12_6, v12_4], [0, 0], t)\n",
    "a = np.linalg.inv(A_top)\n",
    "E1_top = 1/(a[0,0]*(2*t))\n",
    "E2_top = 1/(a[1,1]*(2*t))\n",
    "G12_top = 1/(a[2,2]*(2*t))\n",
    "v12 = -1*(a[1,0]/a[0,0])\n",
    "\n",
    "#Side Lam\n",
    "A_side,B_side,D_side = ABD([E1_4, E1_6, E1_4],[E2_4, E2_6, E2_4], [G12_4, G12_6, G12_4], [v12_4, v12_6, v12_4], [0, 0, 0], t)\n",
    "a = np.linalg.inv(A_side)\n",
    "E1_top = 1/(a[0,0]*(2*t))\n",
    "E2_top = 1/(a[1,1]*(2*t))\n",
    "G12_top = 1/(a[2,2]*(2*t))\n",
    "v12 = -1*(a[1,0]/a[0,0])"
   ]
  },
  {
   "cell_type": "code",
   "execution_count": null,
   "metadata": {},
   "outputs": [],
   "source": [
    "#Define Shape Cross-Section (rectangle)\n",
    "w_tot = 10.59055 #in with 3 plies wrapped around\n",
    "h_tot = 2.029527 #decimal is 3 plys of .25mm into inches \n",
    "A_tot = w_tot*h_tot\n",
    "\n",
    "#Stringer Geometry\n",
    "w_string = .125 #in\n",
    "h_string = 2 \n",
    "\n",
    "#Foam Geometry\n",
    "\n",
    "\n",
    "\n"
   ]
  }
 ],
 "metadata": {
  "kernelspec": {
   "display_name": "Python 3",
   "language": "python",
   "name": "python3"
  },
  "language_info": {
   "codemirror_mode": {
    "name": "ipython",
    "version": 3
   },
   "file_extension": ".py",
   "mimetype": "text/x-python",
   "name": "python",
   "nbconvert_exporter": "python",
   "pygments_lexer": "ipython3",
   "version": "3.9.2"
  },
  "orig_nbformat": 4
 },
 "nbformat": 4,
 "nbformat_minor": 2
}
