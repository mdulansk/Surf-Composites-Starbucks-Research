{
 "cells": [
  {
   "cell_type": "code",
   "execution_count": null,
   "metadata": {},
   "outputs": [],
   "source": [
    "import matplotlib.pyplot as plt\n",
    "import numpy as np\n",
    "from scipy.interpolate import interp1d"
   ]
  },
  {
   "attachments": {},
   "cell_type": "markdown",
   "metadata": {},
   "source": [
    "### Making surfboard Cross Section"
   ]
  },
  {
   "cell_type": "code",
   "execution_count": null,
   "metadata": {},
   "outputs": [],
   "source": [
    "\n",
    "def surfboard_outline(width, thickness, num_points=1000):\n",
    "    \"\"\"\n",
    "    Generate a smooth closed curve representing the outline of a surfboard cross-section using a cubic spline.\n",
    "\n",
    "    Parameters:\n",
    "    width (float): Width of the surfboard.\n",
    "    thickness (float): Thickness of the surfboard.\n",
    "    bottom_curve (float): Curvature of the bottom half of the surfboard outline.\n",
    "    num_points (int): Number of points to generate on the curve. Defaults to 100.\n",
    "\n",
    "    Returns:\n",
    "    x (numpy.ndarray): x-coordinates of the surfboard outline.\n",
    "    y (numpy.ndarray): y-coordinates of the surfboard outline.\n",
    "    \"\"\"\n",
    "    # Define control points for Bezier curve\n",
    "    p0 = [0, thickness/2]\n",
    "    p2 = [0, -thickness/2]\n",
    "    p1 = [width/2, (p0[1]+p2[1])/2]\n",
    "    p3 = [-width/2, (p0[1]+p2[1])/2]\n",
    "    print(f'Effective thickness is {p0[1]+abs(p2[1])}')\n",
    "    # Create array of control points\n",
    "    control_points = np.array([p2, p3, p0, p1, p2])\n",
    "    plt.scatter(p0[0],p0[1],color='black')\n",
    "    plt.scatter(p1[0],p1[1],color='blue')\n",
    "    plt.scatter(p2[0],p2[1],color='orange')\n",
    "    plt.scatter(p3[0],p3[1],color='green')\n",
    "\n",
    "    # Generate evenly spaced parameter values for the spline\n",
    "    t = np.linspace(0, 1, 5)\n",
    "\n",
    "    # Generate cubic spline interpolation function\n",
    "    spline_func = interp1d(t, control_points, kind='cubic', axis=0)\n",
    "\n",
    "    # Generate parameter values for the smooth curve\n",
    "    t_smooth = np.linspace(0, 1, num_points+1)\n",
    "\n",
    "    # Evaluate the cubic spline at the parameter values to generate the smooth curve\n",
    "    curve = spline_func(t_smooth)\n",
    "\n",
    "    # Extract x and y coordinates of the smooth curve\n",
    "    x = curve[:, 0]\n",
    "    y = curve[:, 1]\n",
    "\n",
    "    # Return x and y coordinates of the closed curve\n",
    "    return x, y\n"
   ]
  },
  {
   "attachments": {},
   "cell_type": "markdown",
   "metadata": {},
   "source": [
    "## Function to create Offset for Laminate coordinates"
   ]
  },
  {
   "cell_type": "code",
   "execution_count": null,
   "metadata": {},
   "outputs": [],
   "source": [
    "def offset(x,y,offset):\n",
    "\n",
    "    # calculate unit tangent vector at each point\n",
    "    dx = np.gradient(x)\n",
    "    dy = np.gradient(y)\n",
    "    ds = np.sqrt(dx**2 + dy**2)\n",
    "    tx = dx/ds\n",
    "    ty = dy/ds\n",
    "\n",
    "    # rotate unit tangent vector by 90 degrees to obtain unit normal vector\n",
    "    nx = -ty\n",
    "    ny = tx\n",
    "\n",
    "    # scale unit normal vector by offset distance to obtain offset vector\n",
    "    ox = nx * offset\n",
    "    oy = ny * offset\n",
    "\n",
    "    # translate each point along original curve by corresponding offset vector\n",
    "    x_offset = x + ox\n",
    "    y_offset = y + oy\n",
    "    \n",
    "    return x_offset, y_offset\n"
   ]
  },
  {
   "cell_type": "code",
   "execution_count": null,
   "metadata": {},
   "outputs": [],
   "source": [
    "width = 20 * .0254\n",
    "thickness = 2.5 * .0254\n",
    "#bottom_curve = 1000\n",
    "t_values = None\n",
    "n = 10000\n",
    "x,y = surfboard_outline(width,thickness,n)\n",
    "plt.plot(x,y)\n",
    "plt.axis('equal')\n"
   ]
  },
  {
   "attachments": {},
   "cell_type": "markdown",
   "metadata": {},
   "source": [
    "#### Carbon Stringer"
   ]
  },
  {
   "attachments": {},
   "cell_type": "markdown",
   "metadata": {},
   "source": [
    "###### Coordinates for all materials with the surfboard cross-section with a carbon stringer"
   ]
  },
  {
   "cell_type": "code",
   "execution_count": null,
   "metadata": {},
   "outputs": [],
   "source": [
    "\n",
    "carbon_loc = 0 * .0254\n",
    "top_lam_loc_y = -.25*.0254 + .5*.0254\n",
    "bot_lam_loc_y = -.25*.0254 - .5*.0254\n",
    "\n",
    "t = .25E-3\n",
    "idx_bot_foam = (np.abs(y[0:int(n/2)] - carbon_loc)).argmin()\n",
    "idx_top_foam = (np.abs(y[0:int(n/2)] - (carbon_loc+t))).argmin()\n",
    "idx_top_lam = (np.abs(y[0:int(n/2)] - (top_lam_loc_y))).argmin()\n",
    "idx_bot_lam = (np.abs(y[0:int(n/2)] - (bot_lam_loc_y))).argmin()\n",
    "\n",
    "top_foam = [x[idx_top_foam:int(n/2)+(int(n/2)-idx_top_foam)],y[idx_top_foam:int(n/2)+(int(n/2)-idx_top_foam)]]\n",
    "\n",
    "bot_foam = [np.append(x[0:idx_bot_foam],x[-idx_bot_foam:]),np.append(y[0:idx_bot_foam],y[-idx_bot_foam:])]\n",
    "\n",
    "carbon = [np.append(x[idx_bot_foam:idx_top_foam],x[-idx_top_foam:-idx_bot_foam]),np.append(y[idx_bot_foam:idx_top_foam],y[-idx_top_foam:-idx_bot_foam])]\n",
    "\n",
    "top_lam_bottom_layer = [x[idx_top_lam:int(n/2)+(int(n/2)-idx_top_lam)],y[idx_top_lam:int(n/2)+(int(n/2)-idx_top_lam)]]\n",
    "top_lam_offset_x,top_lam_offset_y = offset(top_lam_bottom_layer[0],top_lam_bottom_layer[1],t*2)\n",
    "top_lam = [np.append(top_lam_bottom_layer[0],top_lam_offset_x),np.append(top_lam_bottom_layer[1],top_lam_offset_y)] \n",
    "\n",
    "left_lam_bottom_layer = [x[idx_bot_lam:idx_top_lam],y[idx_bot_lam:idx_top_lam]]\n",
    "left_lam_offset_x,left_lam_offset_y = offset(left_lam_bottom_layer[0],left_lam_bottom_layer[1],t*3)\n",
    "left_lam = [np.append(left_lam_bottom_layer[0],left_lam_offset_x),np.append(left_lam_bottom_layer[1],left_lam_offset_y)] \n",
    "\n",
    "right_lam_bottom_layer = [x[-idx_top_lam:-idx_bot_lam],y[-idx_top_lam:-idx_bot_lam]]\n",
    "right_lam_offset_x,right_lam_offset_y = offset(right_lam_bottom_layer[0],right_lam_bottom_layer[1],t*3)\n",
    "right_lam = [np.append(right_lam_bottom_layer[0],right_lam_offset_x),np.append(right_lam_bottom_layer[1],right_lam_offset_y)] \n",
    "\n",
    "bot_lam_bottom_layer = [np.append(x[0:idx_bot_lam],x[-idx_bot_lam:]),np.append(y[0:idx_bot_lam],y[-idx_bot_lam:])]\n",
    "bot_lam_offset_x,bot_lam_offset_y = offset(bot_lam_bottom_layer[0],bot_lam_bottom_layer[1],t*2)\n",
    "bot_lam = [np.append(bot_lam_bottom_layer[0],bot_lam_offset_x),np.append(bot_lam_bottom_layer[1],bot_lam_offset_y)] \n",
    "\n",
    "\n",
    "\n",
    "#plt.plot([-.3,.3],[-.15*.0254,-.15*.0254],linestyle='--')\n",
    "plt.scatter(top_foam[0],top_foam[1],s=.25,color='silver')\n",
    "plt.scatter(bot_foam[0],bot_foam[1],s=.25,color='silver')\n",
    "plt.scatter(top_lam[0],top_lam[1],s=.25,color='brown')\n",
    "plt.scatter(left_lam[0],left_lam[1],s=.25,color='brown')\n",
    "plt.scatter(right_lam[0],right_lam[1],s=.25,color='brown')\n",
    "plt.scatter(bot_lam[0],bot_lam[1],s=.25,color='brown')\n",
    "\n",
    "plt.plot(carbon[0],carbon[1],color='black')\n",
    "plt.axis('equal')\n"
   ]
  }
 ],
 "metadata": {
  "kernelspec": {
   "display_name": "Python 3",
   "language": "python",
   "name": "python3"
  },
  "language_info": {
   "codemirror_mode": {
    "name": "ipython",
    "version": 3
   },
   "file_extension": ".py",
   "mimetype": "text/x-python",
   "name": "python",
   "nbconvert_exporter": "python",
   "pygments_lexer": "ipython3",
   "version": "3.10.9"
  },
  "orig_nbformat": 4,
  "vscode": {
   "interpreter": {
    "hash": "d0ed7289f85c21c239367c36a5b9d68e6b10cb577a35e71cd40561184b5fc9b8"
   }
  }
 },
 "nbformat": 4,
 "nbformat_minor": 2
}
