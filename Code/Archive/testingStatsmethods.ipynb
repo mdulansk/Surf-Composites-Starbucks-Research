{
 "cells": [
  {
   "cell_type": "code",
   "execution_count": 1,
   "metadata": {},
   "outputs": [],
   "source": [
    "import sympy as sp\n",
    "import numpy as npv\n",
    "import scipy.stats as stats"
   ]
  },
  {
   "cell_type": "code",
   "execution_count": 2,
   "metadata": {},
   "outputs": [
    {
     "name": "stdout",
     "output_type": "stream",
     "text": [
      "The t-statistic is:  -1.803113353353854\n",
      "The p-value is:  0.09651938073285946\n"
     ]
    }
   ],
   "source": [
    "# Sample data\n",
    "data1 = [100, 120, 110, 95, 104, 132, 155]\n",
    "data2 = [140, 115, 130, 120, 134, 140, 160]\n",
    "\n",
    "# Perform the 2-sample t-test\n",
    "t_stat, p_value = stats.ttest_ind(data1, data2)\n",
    "\n",
    "print(\"The t-statistic is: \", t_stat)\n",
    "print(\"The p-value is: \", p_value)\n"
   ]
  },
  {
   "cell_type": "code",
   "execution_count": null,
   "metadata": {},
   "outputs": [],
   "source": []
  }
 ],
 "metadata": {
  "kernelspec": {
   "display_name": "SurfURSConda",
   "language": "python",
   "name": "python3"
  },
  "language_info": {
   "codemirror_mode": {
    "name": "ipython",
    "version": 3
   },
   "file_extension": ".py",
   "mimetype": "text/x-python",
   "name": "python",
   "nbconvert_exporter": "python",
   "pygments_lexer": "ipython3",
   "version": "3.10.10"
  },
  "orig_nbformat": 4
 },
 "nbformat": 4,
 "nbformat_minor": 2
}
