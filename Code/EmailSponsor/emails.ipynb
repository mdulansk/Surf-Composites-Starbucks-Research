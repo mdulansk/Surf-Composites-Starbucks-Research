{
 "cells": [
  {
   "cell_type": "code",
   "execution_count": 5,
   "metadata": {},
   "outputs": [],
   "source": [
    "import smtplib\n",
    "from email.mime.text import MIMEText\n",
    "from email.mime.multipart import MIMEMultipart\n",
    "from email.mime.image import MIMEImage\n",
    "from datetime import datetime\n",
    "import time\n",
    "from IPython.display import Image"
   ]
  },
  {
   "cell_type": "code",
   "execution_count": 9,
   "metadata": {},
   "outputs": [],
   "source": [
    "# SMTP server configuration\n",
    "smtp_server = 'smtp.gmail.com'\n",
    "smtp_port = 587\n",
    "smtp_username = 'mdulansk@ucsd.edu'\n",
    "smtp_password = '****'\n",
    "\n",
    "#Email Content\n",
    "subject = f'Test Email {datetime.now()}'\n",
    "message = 'GOLDENNNN'\n",
    "sender = 'mdulansk@ucsd.edu'\n",
    "recipient = 'mdulansk@ucsd.edu'\n",
    "\n",
    "#Create the email message object\n",
    "msg = MIMEMultipart()\n",
    "msg['Subject'] = subject\n",
    "msg['From'] = sender\n",
    "msg.attach(MIMEText(message,'plain'))\n",
    "\n",
    "#create the image attachment\n",
    "image_path = 'TestImageEmail.jpg'\n",
    "with open(image_path,'rb') as f:\n",
    "    img = MIMEImage(f.read())\n",
    "    img.add_header('Content-Type', 'image/jpeg')\n",
    "    img.add_header('Content-Disposition', 'attachment', filename=image_path)\n",
    "    msg.attach(img)\n",
    "\n",
    "try:\n",
    "    server = smtplib.SMTP(smtp_server, smtp_port)\n",
    "    server.starttls()\n",
    "    server.login(smtp_username,smtp_password)\n",
    "\n",
    "    msg['To'] = recipient\n",
    "\n",
    "    server.sendmail(sender,recipient,msg.as_string())\n",
    "\n",
    "except Exception as e:\n",
    "    print('An error occurred while sending emails:', str(e))\n",
    "finally:\n",
    "    server.quit()"
   ]
  },
  {
   "cell_type": "code",
   "execution_count": 7,
   "metadata": {},
   "outputs": [],
   "source": []
  },
  {
   "cell_type": "code",
   "execution_count": null,
   "metadata": {},
   "outputs": [],
   "source": []
  }
 ],
 "metadata": {
  "kernelspec": {
   "display_name": "SurfURSConda",
   "language": "python",
   "name": "python3"
  },
  "language_info": {
   "codemirror_mode": {
    "name": "ipython",
    "version": 3
   },
   "file_extension": ".py",
   "mimetype": "text/x-python",
   "name": "python",
   "nbconvert_exporter": "python",
   "pygments_lexer": "ipython3",
   "version": "3.10.10"
  },
  "orig_nbformat": 4
 },
 "nbformat": 4,
 "nbformat_minor": 2
}
