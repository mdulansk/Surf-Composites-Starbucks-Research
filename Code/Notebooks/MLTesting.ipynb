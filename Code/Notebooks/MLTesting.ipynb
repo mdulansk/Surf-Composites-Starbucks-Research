{
 "cells": [
  {
   "cell_type": "code",
   "execution_count": 77,
   "metadata": {},
   "outputs": [
    {
     "name": "stdout",
     "output_type": "stream",
     "text": [
      "The autoreload extension is already loaded. To reload it, use:\n",
      "  %reload_ext autoreload\n"
     ]
    }
   ],
   "source": [
    "%load_ext autoreload\n",
    "%autoreload 2\n",
    "\n",
    "import sys\n",
    "sys.path.append('../classes')\n",
    "sys.path.append('../modules')\n",
    "from BuildSpecimen import build_specimens_output\n",
    "from PlotFitTesting import plot_fit_test_data, plot_test_specimens\n",
    "from PerformTTest import perform_t_test\n",
    "import os\n",
    "import numpy as np\n",
    "from sklearn.pipeline import Pipeline\n",
    "from sklearn.compose import ColumnTransformer\n",
    "from sklearn.preprocessing import OneHotEncoder, StandardScaler\n",
    "from sklearn.linear_model import LinearRegression\n",
    "from sklearn.model_selection import train_test_split\n",
    "from sklearn.metrics import mean_squared_error\n",
    "from sklearn.model_selection import train_test_split\n",
    "from sklearn.ensemble import RandomForestRegressor\n",
    "from sklearn.model_selection import GridSearchCV\n",
    "import pandas as pd\n"
   ]
  },
  {
   "cell_type": "markdown",
   "metadata": {},
   "source": [
    "#### Dedicated to Using ML on Specimen Data"
   ]
  },
  {
   "cell_type": "code",
   "execution_count": 67,
   "metadata": {},
   "outputs": [],
   "source": [
    "#Reading in Coupond Data Sheet\n",
    "cwd = os.getcwd()\n",
    "pardir = os.path.dirname(os.path.dirname(cwd))\n",
    "specimens_fp = os.path.join(pardir,'CouponData','CouponIDDataSheetReformat.xlsx')\n",
    "specimens_df = build_specimens_output(specimens_fp)"
   ]
  },
  {
   "cell_type": "code",
   "execution_count": 103,
   "metadata": {},
   "outputs": [
    {
     "name": "stdout",
     "output_type": "stream",
     "text": [
      "Root Mean Squared Error pounds: 32.81244586561419\n"
     ]
    }
   ],
   "source": [
    "#Building Random Forest for Max Load Given Description and Postlaminated Weight\n",
    "\n",
    "#Defining X and y\n",
    "exclude_descriptions = ['2 Piece balsa stringer Blue on Top',\n",
    "                        'Solid Balsa Stringer- Slightly Damaged by plainar in dib Blue on Top',\n",
    "                        'Solid Balsa Stringer Blue on Top',\n",
    "                        'China Balsa Blue on Top Foam Shear Fail']\n",
    "\n",
    "features_target_df = specimens_df[~specimens_df['Description'].isin(exclude_descriptions)][['PreLaminated Weight (g)','PostLaminated Weight (g)','Description','Max Load (lb)']].dropna()\n",
    "\n",
    "X = features_target_df.drop(columns='Max Load (lb)')\n",
    "y = features_target_df['Max Load (lb)']\n",
    "\n",
    "# Split the data into train and test sets\n",
    "X_train, X_test, y_train, y_test = train_test_split(X, y, test_size=0.3, random_state=3)\n",
    "\n",
    "# Function to compute the difference between columns and reshape the output\n",
    "def compute_weight_difference(X):\n",
    "    weight_difference = X[:, 1] - X[:, 0]\n",
    "    return np.reshape(weight_difference, (-1, 1))\n",
    "\n",
    "# Create a ColumnTransformer to handle encoding and transformation\n",
    "preprocessor = ColumnTransformer(\n",
    "    transformers=[\n",
    "        ('encoder', OneHotEncoder(handle_unknown='ignore'), ['Description']),\n",
    "        ('scaler', StandardScaler(), ['PostLaminated Weight (g)'])\n",
    "    ])\n",
    "\n",
    "# Create the pipeline with preprocessor and random forest regressor\n",
    "RFpipeline = Pipeline([\n",
    "    ('preprocessor', preprocessor),\n",
    "    ('regressor', RandomForestRegressor(random_state=2))\n",
    "])\n",
    "\n",
    "RFpipeline.fit(X_train, y_train)\n",
    "\n",
    "# Predict using the test data\n",
    "y_pred = RFpipeline.predict(X_test)\n",
    "\n",
    "# Calculate the root mean squared error\n",
    "rmse = mean_squared_error(y_test, y_pred, squared=False)\n",
    "print(\"Root Mean Squared Error pounds:\", rmse)"
   ]
  }
 ],
 "metadata": {
  "kernelspec": {
   "display_name": "SurfURSConda",
   "language": "python",
   "name": "python3"
  },
  "language_info": {
   "codemirror_mode": {
    "name": "ipython",
    "version": 3
   },
   "file_extension": ".py",
   "mimetype": "text/x-python",
   "name": "python",
   "nbconvert_exporter": "python",
   "pygments_lexer": "ipython3",
   "version": "3.10.10"
  },
  "orig_nbformat": 4
 },
 "nbformat": 4,
 "nbformat_minor": 2
}
