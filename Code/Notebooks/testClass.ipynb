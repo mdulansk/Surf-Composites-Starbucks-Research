{
 "cells": [
  {
   "cell_type": "code",
   "execution_count": 2,
   "metadata": {},
   "outputs": [],
   "source": [
    "%load_ext autoreload\n",
    "%autoreload 2"
   ]
  },
  {
   "cell_type": "code",
   "execution_count": 23,
   "metadata": {},
   "outputs": [],
   "source": [
    "import sys\n",
    "sys.path.append('../classes')\n",
    "import numpy as np\n",
    "from Material import Material\n",
    "# from abdCalcs import ABD\n",
    "from SandwichPanel import TestSpecimen"
   ]
  },
  {
   "cell_type": "code",
   "execution_count": 62,
   "metadata": {},
   "outputs": [],
   "source": [
    "Eglass6oz = Material(\"6oz_Eglass\", 29.7E9, 29.7E9,5.3E9, 0.17, 539.99 * 3/2)\n",
    "Eglass4oz = Material(\"4oz_Eglass\", 29.7E9 * 2/3, 29.7E9 * 2/3,5.3E9*2/3, 0.17, 539.99)\n",
    "EPS_Foam = Material(\"EPS_Foam\", 3.80E7,3.80E7, 1.9E7, 0.32, 0.0545E3)\n",
    "PU_Foam = Material(\"PU_Foam\", .220E9,.220E9, 0, 0, .240 * 1000)\n",
    "Balsa = Material(\"Balsa\", 2.20E9,2.20E9, .106E9, .25, 250) #Might need to adjust these\n",
    "Basswood = Material(\"Basswood\", 7.1E9, 0, 0, 320)\n",
    "Carbon = Material(\"Carbon\", 150E9, 0, 0, 1600)\n",
    "w_balsa = 0.125\n",
    "t = .25E-3*1/(0.0254)\n",
    "h_eps = 2.5\n",
    "w_eps = 10"
   ]
  },
  {
   "cell_type": "code",
   "execution_count": 66,
   "metadata": {},
   "outputs": [
    {
     "data": {
      "image/png": "[encoded data removed]",
      "text/plain": [
       "<Figure size 640x480 with 1 Axes>"
      ]
     },
     "metadata": {},
     "output_type": "display_data"
    }
   ],
   "source": [
    "construction = {'Stringer':[Balsa,w_balsa],'Top Lam':[[Eglass4oz,t],[Eglass6oz,t]],\\\n",
    "            'Core':[EPS_Foam,h_eps,w_eps],'Bot Lam':[[Eglass4oz,t]]}\n",
    "\n",
    "TDid_101 = TestSpecimen(construction)"
   ]
  },
  {
   "attachments": {},
   "cell_type": "markdown",
   "metadata": {},
   "source": [
    "#### TODO\n",
    "\n",
    "1. Next make sure that the calculation for EIyy etc. are all correct\n",
    "2. Calculate max fail load and stress etc\n",
    "3. Incorporate the moemnt and shear diagrams into the plot\n",
    "3. Create parent class Test Specimen which gets the data, calls moment of inertia, and finds effective moduli of laminates\n",
    "    - Then create sub classes based on the design (Vertical Stringer, Horizontal Stringer). These sub classes will have the ability to get the data and the EIyy etc, but they will have a different get_geometry method for their given shape. Use an abstract class. \n",
    "    - Fix the way that the geometry of the cross section is found. Use coordinates and not the stupid yzs thing."
   ]
  },
  {
   "cell_type": "code",
   "execution_count": null,
   "metadata": {},
   "outputs": [],
   "source": []
  }
 ],
 "metadata": {
  "kernelspec": {
   "display_name": "SurfURSConda",
   "language": "python",
   "name": "python3"
  },
  "language_info": {
   "codemirror_mode": {
    "name": "ipython",
    "version": 3
   },
   "file_extension": ".py",
   "mimetype": "text/x-python",
   "name": "python",
   "nbconvert_exporter": "python",
   "pygments_lexer": "ipython3",
   "version": "3.10.10"
  },
  "orig_nbformat": 4
 },
 "nbformat": 4,
 "nbformat_minor": 2
}
