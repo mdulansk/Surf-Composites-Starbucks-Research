{
 "cells": [
  {
   "cell_type": "code",
   "execution_count": null,
   "metadata": {},
   "outputs": [],
   "source": [
    "import numpy as np\n",
    "import math\n",
    "import matplotlib.pyplot as plt\n",
    "from EI_Calculator_from_Coordinates import EI_from_Scatter\n",
    "\n",
    "#Design Coupon Shape\n",
    "coup_width = 10 #in\n",
    "coup_height = 2 #in\n",
    "radius = coup_height/2\n",
    "x0 = -coup_width/2\n",
    "xend = coup_width/2\n",
    "quality = 1000\n",
    "xcenter_neg = x0+radius\n",
    "xcenter_pos = xend-radius\n",
    "\n",
    "x = np.linspace(x0,xend,quality)\n",
    "x = np.append(x,np.flip(x)[1:len(x)])\n",
    "y = np.zeros(len(x))\n",
    "indexer = -1\n",
    "for i in x[0:int(np.round(len(x)/2))+1]:\n",
    "    indexer+=1\n",
    "    \n",
    "    if i <= xcenter_neg:\n",
    "        y[indexer] = -(radius)*math.sin(np.arccos((i-xcenter_neg)/radius))\n",
    "    elif (xcenter_neg < i) and (i < xcenter_pos):\n",
    "        y[indexer] = - radius\n",
    "    elif i >= xcenter_pos:\n",
    "        y[indexer] = -(radius)*math.sin(np.arccos((i-xcenter_pos)/radius))\n",
    "\n",
    "\n",
    "for i in x[int(np.round(len(x)/2))+1 : len(x)]:\n",
    "    indexer+=1\n",
    "    if i <= xcenter_neg:\n",
    "        y[indexer] = (radius)*math.sin(np.arccos((i-xcenter_neg)/radius))\n",
    "    elif (xcenter_neg < i) and (i < xcenter_pos):\n",
    "        y[indexer] =  radius\n",
    "    elif i >= xcenter_pos:\n",
    "        y[indexer] = (radius)*math.sin(np.arccos((i-xcenter_pos)/radius))\n",
    "\n",
    "\n",
    "print(y)\n",
    "plt.scatter(x,y)\n",
    "ax = plt.gca()\n",
    "ax.set_aspect('equal', adjustable='box')\n",
    "plt.draw()\n",
    "\n",
    "x_coupon = x\n",
    "y_coupon = y\n",
    "\n",
    "print('-------------------------------')\n",
    "\n",
    "EI_from_Scatter(x_coupon, y_coupon, 10)\n"
   ]
  },
  {
   "cell_type": "code",
   "execution_count": 3,
   "metadata": {},
   "outputs": [
    {
     "name": "stdout",
     "output_type": "stream",
     "text": [
      "[-1.22464680e-16 -1.41137591e-01 -1.99096054e-01 ...  1.99096054e-01\n",
      "  1.41137591e-01  1.22464680e-16]\n",
      "[-5.         -4.98998999 -4.97997998 ... -4.97997998 -4.98998999\n",
      " -5.        ]\n",
      "-------------------------------\n"
     ]
    },
    {
     "ename": "IndexError",
     "evalue": "tuple index out of range",
     "output_type": "error",
     "traceback": [
      "\u001b[0;31m---------------------------------------------------------------------------\u001b[0m",
      "\u001b[0;31mIndexError\u001b[0m                                Traceback (most recent call last)",
      "Cell \u001b[0;32mIn[3], line 72\u001b[0m\n\u001b[1;32m     68\u001b[0m \u001b[39mprint\u001b[39m(x_coupon)\n\u001b[1;32m     70\u001b[0m \u001b[39mprint\u001b[39m(\u001b[39m'\u001b[39m\u001b[39m-------------------------------\u001b[39m\u001b[39m'\u001b[39m)\n\u001b[0;32m---> 72\u001b[0m EI_from_Scatter(x_coupon, y_coupon, \u001b[39m10\u001b[39;49m)\n",
      "Cell \u001b[0;32mIn[3], line 13\u001b[0m, in \u001b[0;36mEI_from_Scatter\u001b[0;34m(x, y, E)\u001b[0m\n\u001b[1;32m     11\u001b[0m coord_y \u001b[39m=\u001b[39m y[i]\n\u001b[1;32m     12\u001b[0m Area \u001b[39m=\u001b[39m np\u001b[39m.\u001b[39marray([])\n\u001b[0;32m---> 13\u001b[0m \u001b[39mfor\u001b[39;00m j \u001b[39min\u001b[39;00m \u001b[39mrange\u001b[39m(coord_x\u001b[39m.\u001b[39;49mshape[\u001b[39m0\u001b[39;49m]\u001b[39m-\u001b[39m\u001b[39m2\u001b[39m):\n\u001b[1;32m     14\u001b[0m     area_element1 \u001b[39m=\u001b[39m (coord_x[\u001b[39m0\u001b[39m]\u001b[39m*\u001b[39m(coord_y[j\u001b[39m+\u001b[39m\u001b[39m1\u001b[39m] \u001b[39m-\u001b[39m coord_y[j\u001b[39m+\u001b[39m\u001b[39m2\u001b[39m]))\n\u001b[1;32m     15\u001b[0m     area_element2 \u001b[39m=\u001b[39m (coord_x[j\u001b[39m+\u001b[39m\u001b[39m1\u001b[39m]\u001b[39m*\u001b[39m(coord_y[j\u001b[39m+\u001b[39m\u001b[39m2\u001b[39m] \u001b[39m-\u001b[39m coord_y[\u001b[39m0\u001b[39m]))\n",
      "\u001b[0;31mIndexError\u001b[0m: tuple index out of range"
     ]
    },
    {
     "data": {
      "image/png": "[encoded data removed]",
      "text/plain": [
       "<Figure size 640x480 with 1 Axes>"
      ]
     },
     "metadata": {},
     "output_type": "display_data"
    }
   ],
   "source": [
    "import numpy as np\n",
    "import math\n",
    "import matplotlib as plt\n",
    "import matplotlib.pyplot as plt\n",
    "\n",
    "\n",
    "def EI_from_Scatter(x,y,E):\n",
    "    Areas = np.array([])\n",
    "    for i in range(len(x)):\n",
    "        coord_x = x[i]\n",
    "        coord_y = y[i]\n",
    "        Area = np.array([])\n",
    "        for j in range(coord_x.shape[0]-2):\n",
    "            area_element1 = (coord_x[0]*(coord_y[j+1] - coord_y[j+2]))\n",
    "            area_element2 = (coord_x[j+1]*(coord_y[j+2] - coord_y[0]))\n",
    "            area_element3 = (coord_x[j+2]*(coord_y[0] - coord_y[j+1]))\n",
    "            area_element = (1/2)*(area_element1 + area_element2 + area_element3)\n",
    "            Area = np.append(Area, np.array(area_element))\n",
    "        Areas = np.append(Areas, np.sum(Area))\n",
    "\n",
    "    return Areas\n",
    "\n",
    "\n",
    "#Design Coupon Shape\n",
    "coup_width = 10 #in\n",
    "coup_height = 2 #in\n",
    "radius = coup_height/2\n",
    "x0 = -coup_width/2\n",
    "xend = coup_width/2\n",
    "quality = 1000\n",
    "xcenter_neg = x0+radius\n",
    "xcenter_pos = xend-radius\n",
    "\n",
    "x = np.linspace(x0,xend,quality)\n",
    "x = np.append(x,np.flip(x)[1:len(x)])\n",
    "y = np.zeros(len(x))\n",
    "indexer = -1\n",
    "for i in x[0:int(np.round(len(x)/2))+1]:\n",
    "    indexer+=1\n",
    "    \n",
    "    if i <= xcenter_neg:\n",
    "        y[indexer] = -(radius)*math.sin(np.arccos((i-xcenter_neg)/radius))\n",
    "    elif (xcenter_neg < i) and (i < xcenter_pos):\n",
    "        y[indexer] = - radius\n",
    "    elif i >= xcenter_pos:\n",
    "        y[indexer] = -(radius)*math.sin(np.arccos((i-xcenter_pos)/radius))\n",
    "\n",
    "\n",
    "for i in x[int(np.round(len(x)/2))+1 : len(x)]:\n",
    "    indexer+=1\n",
    "    if i <= xcenter_neg:\n",
    "        y[indexer] = (radius)*math.sin(np.arccos((i-xcenter_neg)/radius))\n",
    "    elif (xcenter_neg < i) and (i < xcenter_pos):\n",
    "        y[indexer] =  radius\n",
    "    elif i >= xcenter_pos:\n",
    "        y[indexer] = (radius)*math.sin(np.arccos((i-xcenter_pos)/radius))\n",
    "\n",
    "\n",
    "print(y)\n",
    "plt.scatter(x,y)\n",
    "ax = plt.gca()\n",
    "ax.set_aspect('equal', adjustable='box')\n",
    "plt.draw()\n",
    "\n",
    "x_coupon = x\n",
    "y_coupon = y\n",
    "\n",
    "print(x_coupon)\n",
    "\n",
    "print('-------------------------------')\n",
    "\n",
    "EI_from_Scatter(x_coupon, y_coupon, 10)"
   ]
  },
  {
   "cell_type": "code",
   "execution_count": 14,
   "metadata": {},
   "outputs": [
    {
     "name": "stdout",
     "output_type": "stream",
     "text": [
      "10\n",
      "10\n"
     ]
    },
    {
     "ename": "ValueError",
     "evalue": "not enough values to unpack (expected 4, got 2)",
     "output_type": "error",
     "traceback": [
      "\u001b[0;31m---------------------------------------------------------------------------\u001b[0m",
      "\u001b[0;31mValueError\u001b[0m                                Traceback (most recent call last)",
      "Cell \u001b[0;32mIn[14], line 32\u001b[0m\n\u001b[1;32m     28\u001b[0m E \u001b[39m=\u001b[39m [\u001b[39m1e8\u001b[39m, \u001b[39m1e8\u001b[39m]\n\u001b[1;32m     29\u001b[0m t \u001b[39m=\u001b[39m [\u001b[39m2.5e-3\u001b[39m, \u001b[39m5e-3\u001b[39m]\n\u001b[0;32m---> 32\u001b[0m Areas, EIxxs, EIyys, EIxys \u001b[39m=\u001b[39m EI_from_Scatter_Thinwalled(xcoord, ycoord, E, t)\n",
      "\u001b[0;31mValueError\u001b[0m: not enough values to unpack (expected 4, got 2)"
     ]
    },
    {
     "data": {
      "image/png": "[encoded data removed]",
      "text/plain": [
       "<Figure size 640x480 with 1 Axes>"
      ]
     },
     "metadata": {},
     "output_type": "display_data"
    }
   ],
   "source": [
    "import numpy as np\n",
    "from Surfboard_Coupon_Coordinate_Generator import coupon_coord_generator\n",
    "#from EI_Calculator_from_Coordinates import EI_from_Scatter\n",
    "from EI_Calculator_from_Coordinates import EI_from_Scatter_Thinwalled\n",
    "import math\n",
    "\n",
    "\n",
    "\n",
    "x,y = coupon_coord_generator(10,2,10,True)\n",
    "\n",
    "x_ceil = math.ceil(len(x)/2)\n",
    "x_floor = math.floor(len(x)/2)\n",
    "\n",
    "y_ceil = math.ceil(len(y)/2)\n",
    "y_floor = math.floor(len(y)/2)\n",
    "\n",
    "x1 = np.array(x[:x_ceil])\n",
    "x2 = np.array(x[x_floor:])\n",
    "\n",
    "y1 = np.array(y[:y_ceil])\n",
    "y2 = np.array(y[y_floor:])\n",
    "print(x1.shape[0])\n",
    "print(x2.shape[0])\n",
    "\n",
    "xcoord = np.array([x1, x2])\n",
    "ycoord = np.array([y1,y2])\n",
    "\n",
    "E = [1e8, 1e8]\n",
    "t = [2.5e-3, 5e-3]\n",
    "\n",
    "\n",
    "Areas, EIxxs, EIyys, EIxys = EI_from_Scatter_Thinwalled(xcoord, ycoord, E, t)\n",
    "\n",
    "\n",
    "\n",
    "\n"
   ]
  },
  {
   "cell_type": "code",
   "execution_count": null,
   "metadata": {},
   "outputs": [],
   "source": []
  }
 ],
 "metadata": {
  "kernelspec": {
   "display_name": "Python 3",
   "language": "python",
   "name": "python3"
  },
  "language_info": {
   "codemirror_mode": {
    "name": "ipython",
    "version": 3
   },
   "file_extension": ".py",
   "mimetype": "text/x-python",
   "name": "python",
   "nbconvert_exporter": "python",
   "pygments_lexer": "ipython3",
   "version": "3.9.2"
  },
  "orig_nbformat": 4
 },
 "nbformat": 4,
 "nbformat_minor": 2
}
